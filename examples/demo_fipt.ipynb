{
 "cells": [
  {
   "cell_type": "markdown",
   "metadata": {},
   "source": [
    "# Fitting FIPT data"
   ]
  },
  {
   "cell_type": "code",
   "execution_count": null,
   "metadata": {},
   "outputs": [],
   "source": [
    "import pandas as pd\n",
    "import fipt # install via: !pip install fipt"
   ]
  },
  {
   "cell_type": "code",
   "execution_count": null,
   "metadata": {},
   "outputs": [],
   "source": [
    "import logging\n",
    "logging.basicConfig(level=logging.INFO)"
   ]
  },
  {
   "cell_type": "markdown",
   "metadata": {},
   "source": [
    "## Load test data"
   ]
  },
  {
   "cell_type": "code",
   "execution_count": null,
   "metadata": {},
   "outputs": [],
   "source": [
    "fn = './test_data_001.csv'\n",
    "\n",
    "df = pd.read_csv(fn)\n",
    "df.head()"
   ]
  },
  {
   "cell_type": "code",
   "execution_count": null,
   "metadata": {},
   "outputs": [],
   "source": [
    "ipdata =  fipt.ImpedanceData(fn, fn, \n",
    "                       f_data = df['Frequency (Hz)'].values,  \n",
    "                       z_real_data = df['Z\\' (Ohms)'].values, \n",
    "                       z_imag_data = df['Z\\\" (Ohms)'].values)"
   ]
  },
  {
   "cell_type": "markdown",
   "metadata": {},
   "source": [
    "## Fit data"
   ]
  },
  {
   "cell_type": "code",
   "execution_count": null,
   "metadata": {},
   "outputs": [],
   "source": [
    "symimfit = fipt.SymmetricImpedanceFitter(impedance_data=ipdata)        \n",
    "symimfit.sanitize_data()\n",
    "# symimfit.plot_fit(data_only=True);\n",
    "\n",
    "# restrict data range\n",
    "symimfit.set_min_w(None)\n",
    "symimfit.set_max_z_abs(400)\n",
    "\n",
    "# use student t likelihood function\n",
    "symimfit.configure_likelihood(likelihood_config=dict(name='t', scale=1, df=1))\n",
    "\n",
    "# guess start parameters\n",
    "start_params = symimfit.guess(make_plots=False)\n",
    "start_params.pretty_print()"
   ]
  },
  {
   "cell_type": "code",
   "execution_count": null,
   "metadata": {},
   "outputs": [],
   "source": [
    "# manual configuration of parameters\n",
    "start_params_1 = start_params\n",
    "# start_params_1['gamma'].set(value=0.916)\n",
    "# start_params_1['r_ion'].set(value=50)\n",
    "# start_params_1['q_s'].set(value=0.004)\n",
    "\n",
    "# symimfit.plot_fit(params=start_params_1);        \n",
    "#         symimfit.set_max_z_abs(250)"
   ]
  },
  {
   "cell_type": "code",
   "execution_count": null,
   "metadata": {},
   "outputs": [],
   "source": [
    "result = symimfit.fit()        \n",
    "\n",
    "print(fipt.lmfit.fit_report(result, show_correl=False))"
   ]
  },
  {
   "cell_type": "code",
   "execution_count": null,
   "metadata": {},
   "outputs": [],
   "source": [
    "f, ax = symimfit.plot_fit(start_params = start_params_1);\n",
    "f.show()"
   ]
  },
  {
   "cell_type": "code",
   "execution_count": null,
   "metadata": {},
   "outputs": [],
   "source": [
    "result_fns = symimfit.save_results(export_folder='./demo_results')\n",
    "display(result_fns)"
   ]
  },
  {
   "cell_type": "code",
   "execution_count": null,
   "metadata": {},
   "outputs": [],
   "source": []
  }
 ],
 "metadata": {
  "kernelspec": {
   "display_name": "Python 3",
   "language": "python",
   "name": "python3"
  },
  "toc": {
   "colors": {
    "hover_highlight": "#DAA520",
    "navigate_num": "#000000",
    "navigate_text": "#333333",
    "running_highlight": "#FF0000",
    "selected_highlight": "#FFD700",
    "sidebar_border": "#EEEEEE",
    "wrapper_background": "#FFFFFF"
   },
   "moveMenuLeft": true,
   "nav_menu": {
    "height": "12px",
    "width": "252px"
   },
   "navigate_menu": true,
   "number_sections": true,
   "sideBar": false,
   "threshold": 4,
   "toc_cell": false,
   "toc_position": {
    "height": "321.6px",
    "left": "1363px",
    "right": "20px",
    "top": "196.8px",
    "width": "212px"
   },
   "toc_section_display": "none",
   "toc_window_display": true,
   "widenNotebook": false
  }
 },
 "nbformat": 4,
 "nbformat_minor": 2
}
