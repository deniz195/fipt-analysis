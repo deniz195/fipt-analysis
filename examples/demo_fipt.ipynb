{
 "cells": [
  {
   "cell_type": "markdown",
   "metadata": {},
   "source": [
    "# Fitting FIPT data"
   ]
  },
  {
   "cell_type": "code",
   "execution_count": 1,
   "metadata": {},
   "outputs": [
    {
     "ename": "ModuleNotFoundError",
     "evalue": "No module named 'fipt'",
     "output_type": "error",
     "traceback": [
      "\u001b[1;31m---------------------------------------------------------------------------\u001b[0m",
      "\u001b[1;31mModuleNotFoundError\u001b[0m                       Traceback (most recent call last)",
      "\u001b[1;32m<ipython-input-1-4f527c9601ac>\u001b[0m in \u001b[0;36m<module>\u001b[1;34m()\u001b[0m\n\u001b[0;32m      1\u001b[0m \u001b[1;32mimport\u001b[0m \u001b[0mpandas\u001b[0m \u001b[1;32mas\u001b[0m \u001b[0mpd\u001b[0m\u001b[1;33m\u001b[0m\u001b[0m\n\u001b[1;32m----> 2\u001b[1;33m \u001b[1;32mimport\u001b[0m \u001b[0mfipt\u001b[0m \u001b[1;31m# install via: !pip install fipt\u001b[0m\u001b[1;33m\u001b[0m\u001b[0m\n\u001b[0m",
      "\u001b[1;31mModuleNotFoundError\u001b[0m: No module named 'fipt'"
     ]
    }
   ],
   "source": [
    "import pandas as pd\n",
    "import fipt # install via: !pip install fipt"
   ]
  },
  {
   "cell_type": "code",
   "execution_count": null,
   "metadata": {},
   "outputs": [],
   "source": [
    "import logging\n",
    "logging.basicConfig(level=logging.INFO)"
   ]
  },
  {
   "cell_type": "markdown",
   "metadata": {},
   "source": [
    "## Load test data"
   ]
  },
  {
   "cell_type": "code",
   "execution_count": null,
   "metadata": {},
   "outputs": [],
   "source": [
    "fn = './test_data_001.csv'\n",
    "\n",
    "df = pd.read_csv(fn)\n",
    "df.head()"
   ]
  },
  {
   "cell_type": "code",
   "execution_count": null,
   "metadata": {},
   "outputs": [],
   "source": [
    "ipdata =  fipt.ImpedanceData(fn, fn, \n",
    "                       f_data = df['Frequency (Hz)'].values,  \n",
    "                       z_real_data = df['Z\\' (Ohms)'].values, \n",
    "                       z_imag_data = df['Z\\\" (Ohms)'].values)"
   ]
  },
  {
   "cell_type": "markdown",
   "metadata": {},
   "source": [
    "## Fit data"
   ]
  },
  {
   "cell_type": "code",
   "execution_count": null,
   "metadata": {},
   "outputs": [],
   "source": [
    "symimfit = fipt.SymmetricImpedanceFitter(impedance_data=ipdata)        \n",
    "symimfit.sanitize_data()\n",
    "# symimfit.plot_fit(data_only=True);\n",
    "\n",
    "# restrict data range\n",
    "symimfit.set_min_w(None)\n",
    "symimfit.set_max_z_abs(400)\n",
    "\n",
    "# use student t likelihood function\n",
    "symimfit.configure_likelihood(likelihood_config=dict(name='t', scale=1, df=1))\n",
    "\n",
    "# guess start parameters\n",
    "start_params = symimfit.guess(make_plots=False)\n",
    "start_params.pretty_print()"
   ]
  },
  {
   "cell_type": "code",
   "execution_count": null,
   "metadata": {},
   "outputs": [],
   "source": [
    "# manual configuration of parameters\n",
    "start_params_1 = start_params\n",
    "# start_params_1['gamma'].set(value=0.916)\n",
    "# start_params_1['r_ion'].set(value=50)\n",
    "# start_params_1['q_s'].set(value=0.004)\n",
    "\n",
    "# symimfit.plot_fit(params=start_params_1);        \n",
    "#         symimfit.set_max_z_abs(250)"
   ]
  },
  {
   "cell_type": "code",
   "execution_count": null,
   "metadata": {},
   "outputs": [],
   "source": [
    "result = symimfit.fit()        \n",
    "\n",
    "print(fipt.lmfit.fit_report(result, show_correl=False))"
   ]
  },
  {
   "cell_type": "code",
   "execution_count": null,
   "metadata": {},
   "outputs": [],
   "source": [
    "f, ax = symimfit.plot_fit(start_params = start_params_1);\n",
    "f.show()"
   ]
  },
  {
   "cell_type": "code",
   "execution_count": 2,
   "metadata": {},
   "outputs": [
    {
     "ename": "NameError",
     "evalue": "name 'symimfit' is not defined",
     "output_type": "error",
     "traceback": [
      "\u001b[1;31m---------------------------------------------------------------------------\u001b[0m",
      "\u001b[1;31mNameError\u001b[0m                                 Traceback (most recent call last)",
      "\u001b[1;32m<ipython-input-2-85d6d20227c2>\u001b[0m in \u001b[0;36m<module>\u001b[1;34m()\u001b[0m\n\u001b[1;32m----> 1\u001b[1;33m \u001b[0mresult_fns\u001b[0m \u001b[1;33m=\u001b[0m \u001b[0msymimfit\u001b[0m\u001b[1;33m.\u001b[0m\u001b[0msave_results\u001b[0m\u001b[1;33m(\u001b[0m\u001b[0mexport_folder\u001b[0m\u001b[1;33m=\u001b[0m\u001b[1;34m'./demo_results'\u001b[0m\u001b[1;33m)\u001b[0m\u001b[1;33m\u001b[0m\u001b[0m\n\u001b[0m\u001b[0;32m      2\u001b[0m \u001b[0mdisplay\u001b[0m\u001b[1;33m(\u001b[0m\u001b[0mresult_fns\u001b[0m\u001b[1;33m)\u001b[0m\u001b[1;33m\u001b[0m\u001b[0m\n",
      "\u001b[1;31mNameError\u001b[0m: name 'symimfit' is not defined"
     ]
    }
   ],
   "source": [
    "result_fns = symimfit.save_results(export_folder='./demo_results')\n",
    "display(result_fns)"
   ]
  },
  {
   "cell_type": "code",
   "execution_count": null,
   "metadata": {},
   "outputs": [],
   "source": []
  }
 ],
 "metadata": {
  "kernelspec": {
   "display_name": "Python 3",
   "language": "python",
   "name": "python3"
  },
  "toc": {
   "colors": {
    "hover_highlight": "#DAA520",
    "navigate_num": "#000000",
    "navigate_text": "#333333",
    "running_highlight": "#FF0000",
    "selected_highlight": "#FFD700",
    "sidebar_border": "#EEEEEE",
    "wrapper_background": "#FFFFFF"
   },
   "moveMenuLeft": true,
   "nav_menu": {
    "height": "12px",
    "width": "252px"
   },
   "navigate_menu": true,
   "number_sections": true,
   "sideBar": false,
   "threshold": 4,
   "toc_cell": false,
   "toc_position": {
    "height": "321.6px",
    "left": "1363px",
    "right": "20px",
    "top": "196.8px",
    "width": "212px"
   },
   "toc_section_display": "none",
   "toc_window_display": true,
   "widenNotebook": false
  }
 },
 "nbformat": 4,
 "nbformat_minor": 2
}
